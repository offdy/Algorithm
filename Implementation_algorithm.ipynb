{
 "cells": [
  {
   "cell_type": "markdown",
   "metadata": {},
   "source": [
    "# Implementation_algorithm\n",
    "\n",
    "- 구현이란, 머릿속에 있는 알고리즘을 소스코드로 바꾸는 과정\n",
    "- 풀이를 떠올리는 것은 쉽지만 소스코드로 옮기기 어려운 문제\n",
    "    - 알고리즘은 간단한데 코드가 지나칠 만큼 길어지는 문제\n",
    "    - 실수 연산을 다루고, 특정 소수점 자리까지 출력해야 하는 문제\n",
    "    - 문자열을 특정한 기준에 따라서 끊어 처리해야 하는 문제\n",
    "    - 적절한 라이브러리를 찾아서 사용해야 하는 문제\n",
    "- 일반적으로 알고리즘 문제에서의 2차원 공간은 행렬의 의미로 사용\n",
    "- 시뮬레이션 및 완전 탐색 문제에서는 2차원 공간에서의 방향 벡터가 자주 활용"
   ]
  },
  {
   "cell_type": "markdown",
   "metadata": {},
   "source": [
    "1. 여행가 A는 N X N 크기의 정삭가형 공간 위에 서 있다. 이 공간은 1 X 1 크기의 정사각형으로 나누어져 있다. 가장 왼쪽 위 좌표는(1,1)이며 가장 오른쪽 좌표는 (N,N)에 해당한다. A는 상하좌우 방향으로 이동 가능하며 시작 좌표는 항상 (1,1)이다. N X N 크기의 정사각형 공간을 벗어나는 움직임은 무시된다. 계획서가 주어졌을 때 A가 최종적으로 도착할 지점의 좌표를 출력하는 프로그램을 작성\n",
    "----------\n",
    "* 여행 계획서\n",
    "    * L: 왼쪽으로 한 칸 이동\n",
    "    * R: 오른쪽으로 한 칸 이동\n",
    "    * U: 위로 한 칸 이동\n",
    "    * D: 아래로 한 칸 이동\n",
    "    * N = 5\n",
    "    * R R R U D D\n",
    "    \n",
    "* 일련의 명령에 따라서 차례대로 이동시킨다는 점에서 시뮬레이션 유형으로 분류"
   ]
  },
  {
   "cell_type": "code",
   "execution_count": null,
   "metadata": {},
   "outputs": [],
   "source": [
    "n = 5\n",
    "x, y = 1,1\n",
    "plans = 'R R R U D D'\n",
    "\n",
    "dx = [0, 0, -1, 1] # L R U D 순서대로 x 좌표 이동 방향\n",
    "dy = [-1, 1, 0, 0] # L R U D 순서대로 y 좌표 이동 방향\n",
    "movetypes = ['L', 'R', 'U', 'D']\n",
    "\n",
    "for plan in plans:\n",
    "    for i in range(len(movetypes)):\n",
    "        if plan == movetypes[i]:\n",
    "            nx = x + dx[i]\n",
    "            ny = y + dy[i]\n",
    "            \n",
    "    if nx < 1 or ny < 1 or nx > n or ny > n: # (nx, ny) 좌표가 (1,1), (n,n) 사이에 있지 않으면 무시\n",
    "        continue\n",
    "    \n",
    "    x, y = nx, ny\n",
    "    \n",
    "print(x,y)\n",
    "            \n",
    "        \n",
    "\n"
   ]
  },
  {
   "cell_type": "markdown",
   "metadata": {},
   "source": [
    "2. 정수 N이 입력되면 00시 00분 00초부터 N시 59분 59초까지의 모든 시각중에서 3이 하나라도 포함되는 모든 경우의 수를 구하는 프로그램 작성\n",
    "-----\n",
    "* 첫째 줄에 정수 N이 입력(0 <= N <= 23)\n",
    "* N = 5\n",
    "* 가능한 모든 시각의 경우를 하나씩 세서 풀기\n",
    "* 완전 탐색 유형 -> 가능한 경우의 수를 모두 검사해보는 방법"
   ]
  },
  {
   "cell_type": "code",
   "execution_count": null,
   "metadata": {},
   "outputs": [],
   "source": [
    "h = int(input())\n",
    "count = 0\n",
    "\n",
    "for i in range(h+1):\n",
    "    for j in range(60):\n",
    "        for k in range(60):\n",
    "            if '3' in str(i) + str(j) + str(k):\n",
    "                count += 1\n",
    "print(count)\n"
   ]
  },
  {
   "cell_type": "markdown",
   "metadata": {},
   "source": [
    "3. 왕실 정원은 체스판과 같은 8 X 8 좌표 평면이다. 왕실 정원의 특정한 한 칸에 나이트가 서있다. 나이트는 이동 할 때 L자 형태로만 이동할 수 있으며 정원 밖으로는 나갈 수 없다. 나이트의 위치가 주어졌을 때 나이트가 이동할 수 있는 경우의 수를 출력하는 프로그램 작성\n",
    "-----\n",
    "* 행 위치는 1부터 8로 표현, 열 위치는 a부터 h로 표현\n",
    "* 나이트 이동 경로\n",
    "    * 수평으로 두 칸 이동한 뒤에 수직으로 한 칸 이동\n",
    "    * 수직으로 두 칸 이동한 뒤에 수평으로 한 칸 이동\n",
    "    * 나이트는 정원 밖으로 나갈 수 없음\n",
    "* 나이트가 이동할 수 있는 경로를 하나씩 확인하여 이동\n",
    "* 8 X 8 좌표 평면을 벗어나지 않는지 확인 필수"
   ]
  },
  {
   "cell_type": "code",
   "execution_count": null,
   "metadata": {},
   "outputs": [],
   "source": [
    "input_data = input()\n",
    "row = int(input_data[1])\n",
    "column = int(ord(input_data[0])) - int(ord('a')) + 1 # 문자로 들어온 값을 아스키 코드로 변환한 값 - a를 아스키 코드로 변환한 값 + 1\n",
    "\n",
    "steps = [(-2,-1), (-1,-2), (1,-2), (2,-1), (2,1), (1,2), (-1,2), (-2,1)]\n",
    "\n",
    "result = 0\n",
    "\n",
    "for step in steps:\n",
    "    next_row = row + step[0]\n",
    "    next_column = column + step[1]\n",
    "    \n",
    "    if next_row >= 1 and next_row <= 8 and next_column >= 1 and next_column <= 8:\n",
    "        result += 1\n",
    "        \n",
    "print(result)"
   ]
  },
  {
   "cell_type": "code",
   "execution_count": null,
   "metadata": {},
   "outputs": [],
   "source": [
    "input_data = input()\n",
    "row = int(input_data[1])\n",
    "column = int(ord(input_data[0])) - int(ord('a')) + 1 # 문자로 들어온 값을 아스키 코드로 변환한 값 - a를 아스키 코드로 변환한 값 + 1\n",
    "\n",
    "steps = [(-2,-1), (-1,-2), (1,-2), (2,-1), (2,1), (1,2), (-1,2), (-2,1)]\n",
    "\n",
    "dx = [-2, -1, 1, 2, 2, 1, -1, -2] # x,y 좌표 따로 분리해서 확인\n",
    "dy = [-1, -2, -2, -1, 1, 2, 2, 1]\n",
    "\n",
    "result = 0\n",
    "\n",
    "for i in range(len(dx)):\n",
    "    next_row = row + dx[i]\n",
    "    next_column = column + dy[i]\n",
    "    \n",
    "    if next_row >= 1 and next_row <= 8 and next_column >= 1 and next_column <= 8:\n",
    "        result += 1\n",
    "        \n",
    "print(result)"
   ]
  },
  {
   "cell_type": "markdown",
   "metadata": {},
   "source": [
    "4. 알파벳 대문자와 숫자(0~9)로만 구성됨 문자열이 입력으로 주어질 때, 모든 알파벳을 오름차순으로 정렬하여 이어서 출력한 뒤, 그 뒤에 모든 숫자를 더한 값을 이어서 출력\n",
    "-----\n",
    "* 첫째 줄에 하나의 문자열 S가 주어짐\n",
    "* S = K1KA5CB7\n",
    "* 문자열이 입력되었을 때 문자를 하나씩 확인\n",
    "    * 숫자인 경우 따로 합계 계산\n",
    "    * 알파벳의 경우 별도의 리스트에 저장\n",
    "*리스트에 저장된 알파벳을 정렬해 문자열로 출력하고, 합계를 뒤에 붙여 출력"
   ]
  },
  {
   "cell_type": "code",
   "execution_count": null,
   "metadata": {},
   "outputs": [],
   "source": [
    "s = 'K1KA5CB7'\n",
    "k = []\n",
    "a = ['A','B','C','D','E','F','G','H','I','J','K','L','M','N','O','P','O','R','S','T','U','V','W','X','Y','Z']\n",
    "number = 0\n",
    "\n",
    "for i in s:\n",
    "    if i in a:\n",
    "        k.append(i)\n",
    "    else:\n",
    "        n += int(i)\n",
    "\n",
    "k.sort()\n",
    "k = ''.join(k) # 리스트를 문자열로 변환\n",
    "\n",
    "if number != 0:\n",
    "    result = k + str(number)\n",
    "\n",
    "print(result)"
   ]
  },
  {
   "cell_type": "code",
   "execution_count": null,
   "metadata": {},
   "outputs": [],
   "source": [
    "data = input()\n",
    "result = []\n",
    "value = 0\n",
    "\n",
    "for x in data:\n",
    "    if x.isalpha(): # isalpha() 함수 사용해서 알파벳인 경우 결과 리스트에 삽입\n",
    "        result.append(x)\n",
    "        \n",
    "    else:\n",
    "        value += int(x)\n",
    "        \n",
    "    result.sort()\n",
    "    \n",
    "    # 숫자가 하나라도 존재하는 경우 가장 뒤에 삽입\n",
    "    if value != 0: \n",
    "        result.append(str(value))\n",
    "   \n",
    "    # 리스트를 문자열로 변환\n",
    "    print(''.join(result))"
   ]
  }
 ],
 "metadata": {
  "kernelspec": {
   "display_name": "Python 3.7.0 ('offdy')",
   "language": "python",
   "name": "python3"
  },
  "language_info": {
   "codemirror_mode": {
    "name": "ipython",
    "version": 3
   },
   "file_extension": ".py",
   "mimetype": "text/x-python",
   "name": "python",
   "nbconvert_exporter": "python",
   "pygments_lexer": "ipython3",
   "version": "3.7.0"
  },
  "orig_nbformat": 4,
  "vscode": {
   "interpreter": {
    "hash": "a277bf6688bbb7da718ea1cbc2a7572591174ff83fa8173e63ab66c17f06a7d0"
   }
  }
 },
 "nbformat": 4,
 "nbformat_minor": 2
}
