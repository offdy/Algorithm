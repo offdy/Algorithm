{
 "cells": [
  {
   "cell_type": "markdown",
   "metadata": {},
   "source": [
    "# 정렬 알고리즘"
   ]
  },
  {
   "cell_type": "markdown",
   "metadata": {},
   "source": [
    "선택 정렬\n",
    "----\n",
    "- N번 만큼 가장 작은 수를 찾아서 맨 앞으로 보내야 함\n",
    "- 구현 방식에 따라 사소한 오차는 있을 수 있지만, 전체 연산 횟수는 N +(N - 1) + ... + 2"
   ]
  },
  {
   "cell_type": "code",
   "execution_count": 2,
   "metadata": {},
   "outputs": [
    {
     "name": "stdout",
     "output_type": "stream",
     "text": [
      "[0, 1, 2, 3, 5, 6, 7, 8, 4, 9]\n"
     ]
    }
   ],
   "source": [
    "array = [7, 5, 9, 0, 3, 1 ,6, 2, 4, 8]\n",
    "\n",
    "for i in range(len(array)):\n",
    "    min_index = i\n",
    "    for j in range(i+1, len(array)):\n",
    "        if array[min_index] > array[j]:\n",
    "            min_index = j\n",
    "        array[i], array[min_index] = array[min_index], array[i]\n",
    "        \n",
    "print(array)"
   ]
  },
  {
   "cell_type": "markdown",
   "metadata": {},
   "source": [
    "삽입 정렬\n",
    "----\n",
    "- 처리되지 않은 데이터를 하나씩 골라 적절한 위치에 삽입\n",
    "- 선택 정렬에 비해 구현 난이도가 높지만, 일반적으로 더 효율적으로 동작\n",
    "- 선택 정렬과 마찬가지로 반복문이 두 번 중첩되어 사용"
   ]
  },
  {
   "cell_type": "markdown",
   "metadata": {},
   "source": [
    "array = [7, 5, 9, 0, 3, 1 ,6, 2, 4, 8]를 순서대로 정렬\n",
    "- 첫번째 데이터 7은 그 자체로 정렬이 되어 있다고 판단하고, 두번째 데이터 5가 어떤 위치로 들어갈지 판단\n",
    "- 7의 왼쪽으로 들어가거나 오른쪽으로 들어가거나 두 경우만 존재\n",
    "- 이어서 9가 어떤 위치로 들어갈지 판단\n",
    "- 이어서 0이 어떤 위치로 들어갈지 판단\n",
    "- 이러한 과정을 반복"
   ]
  },
  {
   "cell_type": "code",
   "execution_count": 3,
   "metadata": {},
   "outputs": [
    {
     "name": "stdout",
     "output_type": "stream",
     "text": [
      "[0, 1, 2, 3, 4, 5, 6, 7, 8, 9]\n"
     ]
    }
   ],
   "source": [
    "array = [7, 5, 9, 0, 3, 1 ,6, 2, 4, 8]\n",
    "for i in range(1, len(array)):\n",
    "    for j in range(i, 0, -1): # 인덱스  i부터 1까지 1씩 감소하며 반복\n",
    "        if array[j] < array[j - 1]:\n",
    "            array[j], array[j - 1] = array[j - 1], array[j]\n",
    "        else:\n",
    "            break\n",
    "print(array)"
   ]
  },
  {
   "cell_type": "markdown",
   "metadata": {},
   "source": [
    "퀵 정렬\n",
    "----\n",
    "- 기준 데이터를 설정하고 그 기준보다 큰 데이터와 작은 데이터의 위치를 바꾸는 방법\n",
    "- 일반적인 상황에서 가장 많이 사용되는 정렬 알고리즘 중 하나\n",
    "- 병합 정렬과 더불어 대부분의 프로그래밍 언어의 정렬 라이브러리의 근간이 되는 알고리즘\n",
    "- 가장 기본적인 퀵 정렬은 첫번째 데이터를 기준 데이터(Pivot)로 설정"
   ]
  },
  {
   "cell_type": "markdown",
   "metadata": {},
   "source": [
    "array = [5, 7, 9, 0, 3, 1, 6, 2, 4, 8]를 순서대로 정렬\n",
    "- 현재 피벗의 값은 5\n",
    "- 왼쪽에서부어 5보다 큰 데이터를 선택하므로 7이 선택\n",
    "- 오른쪽에섭터 5보다 작은 데이터를 선택하므로 4가 선택\n",
    "- 이 두 데이터의 위치를 서로 변경\n",
    "- 이 과정을 반복\n",
    "- 왼쪽에서부터 5보다 큰 데이터로 6이 선택되고 오른쪽에서부터 5보다 작은 데이터를 선택해서 1이 선택될 때 서로 위치가 얻갈리게 되는 겅우, 피벗과 작은데이터의 위치를 서로 변경\n",
    "- 즉, 1과 5의 위치 서로 변경 -> 피벗 값이 중간에 위치하게 됨\n",
    "- 이제 5의 왼쪽 데이터는 모두 5보다 작고, 오른쪽에 있는 데이터는 모두 5보다 큼 [1, 4, 2, 0, 3, 5, 6, 9, 7, 5]-> 분할\n",
    "- 왼쪽 데이터끼리 퀵 정렬 수행\n",
    "- 오른쪽 데이터끼리 퀵 정렬 수행\n",
    "- 퀵 정렬은 평균의 경우 O(NlogN)의 시간 복잡도"
   ]
  },
  {
   "cell_type": "code",
   "execution_count": 7,
   "metadata": {},
   "outputs": [
    {
     "name": "stdout",
     "output_type": "stream",
     "text": [
      "[0, 1, 2, 3, 4, 5, 6, 7, 8, 9]\n"
     ]
    }
   ],
   "source": [
    "array = [5, 7, 9, 0, 3, 1, 6, 2, 4, 8]\n",
    "\n",
    "def quick_sort(array, start, end):\n",
    "    if start >= end:\n",
    "        return\n",
    "    pivot = start # 첫번재 원소 피벗으로 설정\n",
    "    left = start + 1\n",
    "    right = end\n",
    "    while(left <= right):\n",
    "        # 피벗보다 큰 데이터를 찾을 때까지 반복\n",
    "        while(left <= end and array[left] <= array[pivot]):\n",
    "            left += 1\n",
    "        # 피벗보다 작은 데이터를 찾을 때까지 반복\n",
    "        while(right > start and array[right] >= array[pivot]):\n",
    "            right -= 1\n",
    "        # 엇갈렸다면 작은 데이터와 피벗을 교체\n",
    "        if(left > right):\n",
    "            array[right], array[pivot] = array[pivot], array[right]\n",
    "        # 엇갈리지 않았다면 작은 데이터와 큰 데이터를 교체\n",
    "        else:\n",
    "            array[left], array[right] = array[right], array[left]\n",
    "    # 분할 이후 왼쪽 부분과 오른쪽 부분에서 각각 정렬 수행       \n",
    "    quick_sort(array, start, right - 1)\n",
    "    quick_sort(array, right + 1, end)\n",
    "    \n",
    "quick_sort(array, 0, len(array) - 1)\n",
    "print(array)"
   ]
  },
  {
   "cell_type": "code",
   "execution_count": 8,
   "metadata": {},
   "outputs": [
    {
     "name": "stdout",
     "output_type": "stream",
     "text": [
      "[0, 1, 2, 3, 4, 5, 6, 7, 8, 9]\n"
     ]
    }
   ],
   "source": [
    "array = [5, 7, 9, 0, 3, 1, 6, 2, 4, 8]\n",
    "\n",
    "def quick_sort(array):\n",
    "    if len(array) <= 1:\n",
    "        return array\n",
    "    pivot = array[0]\n",
    "    tail = array[1:] # 피벗을 제외한 리스트\n",
    "    \n",
    "    left_side = [x for x in tail if x <= pivot] # tail의 각 원소를 하나씩 확인하며 pivot보다 작거나 같을 경우 left_side에 담음\n",
    "    right_side = [x for x in tail if x > pivot]\n",
    "    # 분할 이후 왼쪽 부분과 오른쪽 부분에서 각각 정렬 수행, 전체 리스트 반환\n",
    "    return quick_sort(left_side) + [pivot] + quick_sort(right_side)\n",
    "\n",
    "print(quick_sort(array))"
   ]
  },
  {
   "cell_type": "markdown",
   "metadata": {},
   "source": [
    "계수 정렬\n",
    "----\n",
    "- 특정한 조건이 부합할 때만 사용할 수 있지만 매우 빠르게 동작하는 정렬 알고리즘\n",
    "    - 계수 정렬은 데이터의 크기 범위가 제한되어 정수 형태로 표현할 수 있을 때 사용 가능\n",
    "- 데이터의 개수가 N, 데이터(양수) 중 최댓값이 K일 떄 최악의 경우에도 수행 시간 O(N + K)를 보장\n",
    "- 동일한 값을 가지는 데이터가 여러 개 등장할 때 효과정\n",
    "    - 성적의 경우 100점을 맞은 학생이 여러 명일 수 있기 때문에 계수 정렬이 효과적"
   ]
  },
  {
   "cell_type": "markdown",
   "metadata": {},
   "source": [
    "array = [7, 5, 9, 0, 3, 1, 6, 2, 9, 1, 4, 8, 0, 5, 2]를 정렬\n",
    "- 가장 작은 데이터부터 가장 큰 데이터까지의 범위가 모두 담길 수 있도록 리스트 생성\n",
    "- 데이터를 하나씩 확인하며 데이터의 값과 동일한 인덱스의 데이터를 1씩 증가\n",
    "- 결과적으로 최종 리스트에는 각 데이터가 몇 번씩 등장했는지 그 횟수가 기록됨\n",
    "- 리스트의 첫번째 데이터부터 하나씩 그 값만큼 반복하여 인덱스를 출력"
   ]
  },
  {
   "cell_type": "code",
   "execution_count": 11,
   "metadata": {},
   "outputs": [
    {
     "name": "stdout",
     "output_type": "stream",
     "text": [
      "001122345567899"
     ]
    }
   ],
   "source": [
    "array = [7, 5, 9, 0, 3, 1, 6, 2, 9, 1, 4, 8, 0, 5, 2]\n",
    "# 모든 범위를 포함하는 리스트 선언(모든 값은 0으로 초기화)\n",
    "count = [0] * (max(array) + 1)\n",
    "\n",
    "for i in range(len(array)):\n",
    "    count[array[i]] += 1 # 각 데이터에 해당하는 인덱스의 값 증가\n",
    "    \n",
    "for i in range(len(count)): # 리스트에 기록된 정렬 정보 확인\n",
    "    for j in range(count[i]):\n",
    "        print(i, end = '') # 띄어쓰기를 구분으로 등장한 횟수만큼 인덱스 출력"
   ]
  },
  {
   "cell_type": "markdown",
   "metadata": {},
   "source": [
    "1. 두 개의 배열 A와 B를 가지고 있을 때 두 배열은 N개의 원소로 구성되어 있으며, 배열의 원소는 모두 자연수이다. 최대 K번의 바꿔치기 연산을 수행할 수 있는데  바꿔치기 연산이란 배열 A에 있는 원소 하나와 배열 B에 있는 원소 하나를 골라서 두 원소를 서로 바꾸는 것을 말한다. N, K, 배열 A, B의 정보가 주어졌을 때, 최대 K번의 바꿔치기 연산을 수행하여 만들 수 있는 배열 A의 모든 원소의 합의 최댓값을 출력하는 프로그램을 만들어라\n",
    "------\n",
    "- 매번 배열 A에서 가장 작은 원소를 골라서, 배열 B에서 가장 큰 원소와 교체\n",
    "- 가장 먼저 배열 A와 B가 주어지며 A에 대하여 오름차순 정렬하고, B에 대하여 내림차순 정렬\n",
    "- 이후에 두 배열의 원소를 첫번쨰 인덱스부터 차례로 확인하며 A의 원소가 B의 원소보다 작을 때 교체"
   ]
  },
  {
   "cell_type": "code",
   "execution_count": null,
   "metadata": {},
   "outputs": [],
   "source": [
    "n,k = map(int, input().split())\n",
    "a = list(map(int, input().split()))\n",
    "b = list(map(int, input().split()))\n",
    "\n",
    "a.sort()\n",
    "b.sort(reverse = True)\n",
    "\n",
    "for i in range(k):\n",
    "    if a[i] < b[i]:\n",
    "        a[i], b[i] = b[i], a[i]\n",
    "    else:\n",
    "        break\n",
    "    \n",
    "print(sum(a))"
   ]
  }
 ],
 "metadata": {
  "kernelspec": {
   "display_name": "Python 3.7.0 ('offdy')",
   "language": "python",
   "name": "python3"
  },
  "language_info": {
   "codemirror_mode": {
    "name": "ipython",
    "version": 3
   },
   "file_extension": ".py",
   "mimetype": "text/x-python",
   "name": "python",
   "nbconvert_exporter": "python",
   "pygments_lexer": "ipython3",
   "version": "3.7.0"
  },
  "orig_nbformat": 4,
  "vscode": {
   "interpreter": {
    "hash": "a277bf6688bbb7da718ea1cbc2a7572591174ff83fa8173e63ab66c17f06a7d0"
   }
  }
 },
 "nbformat": 4,
 "nbformat_minor": 2
}
