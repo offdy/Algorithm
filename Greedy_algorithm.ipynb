{
 "cells": [
  {
   "cell_type": "markdown",
   "metadata": {},
   "source": [
    "# Greedy_Algorithm\n",
    "- 현재 상황에서 지금 당장 좋은 것만 고르는 방법\n",
    "- 문제를 풀기 위한 최소한의 아이디어를 떠올릴 수 있는 능력 요구\n",
    "- 정당성 분석이 중요\n",
    "    - 단순히 가장 좋아 보이는 것을 반복적으로 선택해도 최적의 해를 구할 수 있는지 검토\n",
    "- 일반적인 상황에서 그리디 알고리즘은 최적의 해를 보장할 수 없을 때가 많지만 코딩 테스트에서 대부분의 그리디 문제는 탐욕법으로 얻은 해가 최적의 해가 되는 상황에 한해서 보통 출제가 됨"
   ]
  },
  {
   "cell_type": "markdown",
   "metadata": {},
   "source": [
    "1. 카운터에는 거스름돈으로 사용할 500원, 100원, 50원, 10원짜리 동전이 무한히 존재할 때 손님에게 거슬러줘야 하는 돈이 1260원이다. 거슬러 줘야 할 동전의 최소 개수를 구해라.\n",
    "-----------------------------\n",
    "* 최적의 해를 구하기 위해 가장 큰 단위 부터 돈을 거술러 줌 \n",
    "* 500원 2개, 100원 2개, 50원 1개, 10원 1개 \n",
    "* 정당성 확인\n",
    "    *  큰 단위가 작은 단위의 배수이므로 정당한 방법\n",
    "    * 위 코드의 시간 복잡도는 거슬러줘야 하는 금액과는 무관하며, 동전의 총 종류에만 영향을 받음"
   ]
  },
  {
   "cell_type": "code",
   "execution_count": 1,
   "metadata": {},
   "outputs": [
    {
     "name": "stdout",
     "output_type": "stream",
     "text": [
      "6\n"
     ]
    }
   ],
   "source": [
    "n = 1260\n",
    "count = 0\n",
    "\n",
    "array = [500, 100, 50, 10]\n",
    "\n",
    "for coin in array:\n",
    "    count += n // coin\n",
    "    n %= coin\n",
    "    \n",
    "print(count)"
   ]
  },
  {
   "cell_type": "markdown",
   "metadata": {},
   "source": [
    "2. 어떠한 수 n과 k가 주어졌을 때 n에서 1을 빼는 연산과 n을 k로 나누는 연산 둘 중 하나를 n이 1이 될 때 까지 반복적으로 수행할 때, 수행해야 하는 최소 횟수 구하기\n",
    "---\n",
    "* 최대한 많이 나누기를 수행\n",
    "* 정당성 확인\n",
    "    * k가 항상 2이상의 수이면 k로 나누는 것이 1을 빼는 것보다 항상 빠르게 n을 줄일 수 있으므로 정당함"
   ]
  },
  {
   "cell_type": "code",
   "execution_count": 6,
   "metadata": {},
   "outputs": [
    {
     "name": "stdout",
     "output_type": "stream",
     "text": [
      "2\n"
     ]
    }
   ],
   "source": [
    "n = 25\n",
    "k = 5\n",
    "count = 0\n",
    "\n",
    "while True:\n",
    "    if n % k == 0:\n",
    "        n //= k\n",
    "        \n",
    "    else:\n",
    "        n -= 1\n",
    "    \n",
    "    count += 1\n",
    "        \n",
    "    if n == 1:\n",
    "        break\n",
    "    \n",
    "print(count)"
   ]
  },
  {
   "cell_type": "code",
   "execution_count": null,
   "metadata": {},
   "outputs": [],
   "source": [
    "# 시간 복잡도를 낯춰 n,k 값이 커질 때 더 효과적인 코드\n",
    "\n",
    "n,k = map(int, input().split())\n",
    "\n",
    "result = 0\n",
    "\n",
    "while True:\n",
    "    target = (n//k) * k # n이 k로 나누어 떨어질 때 최대 n값을 구함 -> n보다 작은 최대 k의 배수\n",
    "    result += (n - target) \n",
    "    n = target\n",
    "    \n",
    "    if n < k:\n",
    "        break\n",
    "    \n",
    "    result += 1\n",
    "    n //= k\n",
    "    \n",
    "result += (n-1)\n",
    "print(result)"
   ]
  },
  {
   "cell_type": "markdown",
   "metadata": {},
   "source": [
    "3. 각 자리 숫자가 0부터 9까지로만 이루어진 문자열 S가 주어졌을 때, 왼쪽부터 오른쪽으로 하나씩 모든 숫자를 확인하며 숫자 사이에 'x', 혹은 '+' 연산자를 넣어 결과적으로 만들어질 수 있는 가장 큰 수를 구하는 프로그램 작성\n",
    "단, 모든 연산은 왼쪽에서부터 순서대로 이루어진다고 가정\n",
    "-------\n",
    "* 두 수 중 하나라도 0 혹은 1인 경우, 곱하기보다는 더하기를 수행하는 것이 효율적 \n",
    "* 두 수 중에서 하나라도 1 이하인 경우에는 더하며, 두 수가 2 이상인 경우에 곱"
   ]
  },
  {
   "cell_type": "code",
   "execution_count": null,
   "metadata": {},
   "outputs": [],
   "source": [
    "data = input()\n",
    "\n",
    "result = int(data[0]) # 주어진 문자열 데이터의 첫번째 값을 숫자형으로 변환\n",
    "\n",
    "for i in range(1, len(data)): # 두번째 숫자부터 확인\n",
    "    num = int(data[i])\n",
    "    if num <=1 or result <= 1:\n",
    "        result += num # 두 수 중 하나라도 0 또는 1인 경우 더하기를 수행\n",
    "        \n",
    "    else:\n",
    "        result *= num\n",
    "        \n",
    "print(result)\n",
    "        \n",
    "    \n",
    "    \n",
    "    "
   ]
  },
  {
   "cell_type": "markdown",
   "metadata": {},
   "source": [
    "4. 모험가 길드에서 N명의 모험가를 대상으로 공포도를 측정할 때, 공포도가 X인 모험가는 반드시 X명 이상으로 구성한 모험가 그룹에 참여해야 여행을 떠날 수 있도록 규정, 여행을 떠날 수 있는 그룹 수의 최댓값을 구해라 몇명의 모험가는 마을에 그대로 남아있어도 됨\n",
    "------\n",
    "* 그룹을 최대한 많이 만들어야 함\n",
    "* 오름차순 정렬 이후에 공포도가 가장 낮은 모험가부터 하나씩 확인\n",
    "* 앞에서부터 공포도를 하나씩 확인하며 현재 그룹에 포함된 모험가의 수가 현재 확인하고 있는 공포도보다 크거나 같다면 이를 그룹으로 설정"
   ]
  },
  {
   "cell_type": "code",
   "execution_count": null,
   "metadata": {},
   "outputs": [],
   "source": [
    "n = int(input())\n",
    "data = list(map(int, input().split()))\n",
    "data.sort() # 오름차순 정렬\n",
    "\n",
    "result = 0 # 총 그룹의 수\n",
    "count = 0 # 현재 그룹에 포함된 모험가의 수\n",
    "\n",
    "for i in data:\n",
    "    count += 1\n",
    "    if count >= i:\n",
    "        result += 1\n",
    "        count = 0\n",
    "        \n",
    "print(result)\n"
   ]
  },
  {
   "cell_type": "code",
   "execution_count": null,
   "metadata": {},
   "outputs": [],
   "source": [
    "# example\n",
    "# n = int(input())\n",
    "data = list(map(int, '2 3 1 2 2 '.split()))\n",
    "data.sort() # 오름차순 정렬\n",
    "print(data)\n",
    "\n",
    "result = 0 # 총 그룹의 수\n",
    "count = 0 # 현재 그룹에 포함된 모험가의 수\n",
    "\n",
    "for i in data:\n",
    "    print(count)\n",
    "    count += 1\n",
    "    print(count)\n",
    "    if count >= i:\n",
    "        result += 1\n",
    "        count = 0 # 그룹이 결성되면 count 리셋 -> 새로운 그룹 -> 그룹 수 최대로 해야 하므로\n",
    "        \n",
    "print(result)\n"
   ]
  },
  {
   "cell_type": "markdown",
   "metadata": {},
   "source": []
  }
 ],
 "metadata": {
  "kernelspec": {
   "display_name": "Python 3.7.0 ('offdy')",
   "language": "python",
   "name": "python3"
  },
  "language_info": {
   "codemirror_mode": {
    "name": "ipython",
    "version": 3
   },
   "file_extension": ".py",
   "mimetype": "text/x-python",
   "name": "python",
   "nbconvert_exporter": "python",
   "pygments_lexer": "ipython3",
   "version": "3.7.0"
  },
  "orig_nbformat": 4,
  "vscode": {
   "interpreter": {
    "hash": "a277bf6688bbb7da718ea1cbc2a7572591174ff83fa8173e63ab66c17f06a7d0"
   }
  }
 },
 "nbformat": 4,
 "nbformat_minor": 2
}
