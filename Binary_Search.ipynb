{
 "cells": [
  {
   "cell_type": "markdown",
   "metadata": {},
   "source": [
    "# 이진 탐색 알고리즘\n",
    "- 순차 탐색: 리스트 안에 있는 특정한 데이터를 찾기 위해 앞에서부터 데이터를 하나씩 확인하는 방법\n",
    "- 이진 탐색: 정렬되어 있는 리스트에서 탐색 범위를 절반씩 좁혀가며 데이터를 탐색하는 방법\n",
    "    - 이진 탐색은 시작점, 끝점, 중간점을 이용하여 탐색 범위를 설정"
   ]
  },
  {
   "cell_type": "markdown",
   "metadata": {},
   "source": [
    "이진 탐색 동작 예시\n",
    "------\n",
    "- array = [0, 2, 4, 6, 8, 10, 12, 14, 16, 18]\n",
    "- 이미 정렬 된 10개의 데이터 중 값이 4인 원소를 찾기\n",
    "- 시작점: 인덱스0, 끝점: 인덱스9, 중간점: 인덱스4 (소수점 이하 제거)\n",
    "- 구하고자 하는 값이 중간점보다 작으면 중간점 이후의 값들은 고려할 필요 없음\n",
    "- 따라서 중간점을 인덱스 1로, 끝점을 인덱스 3으로 변경해서 탐색\n",
    "- 중산점 값이 2이므로 구하고자 하는 값이 중간점 보다 큼 -> 중간점 이전의 값들은 고려할 필요 없음\n",
    "- 시작점의 위치를 인덱스 2로 변경\n",
    "- 이진 탐색은 탐색 범위를 절반씩 줄이게 됨"
   ]
  },
  {
   "cell_type": "code",
   "execution_count": null,
   "metadata": {},
   "outputs": [],
   "source": [
    "def binary_search(array, target, start, end):\n",
    "    if start > end:\n",
    "        return None\n",
    "    mid = (start +end) // 2\n",
    "    \n",
    "    if array[mid] == target:\n",
    "        return mid\n",
    "    if array[mid] > target:\n",
    "        return binary_search(array, target, start, mid -1)\n",
    "    if array[mid] < target:\n",
    "        return binary_search(array, target, mid +1, end)\n",
    "\n",
    "n, target = list(map(int, input().split()))\n",
    "\n",
    "array = list(map(int, input().split()))\n",
    "\n",
    "result = binary_search(array, target, 0, n -1)\n",
    "if result == None:\n",
    "    print('원소가 존재하지 않음')\n",
    "else:\n",
    "    print(result + 1)"
   ]
  },
  {
   "cell_type": "markdown",
   "metadata": {},
   "source": [
    "이진 탐색 라이브러리(자주 사용됨)\n",
    "---\n",
    "- bisect_left(a, x): 정렬된 순서를 유지하면서 배열 a에 x를 삽입할 가장 왼쪽 인덱스를 반환\n",
    "- bisect_right(a, x): 정렬된 순서를 유지하면서 배열 a에 x를 삽입할 가장 오른쪽 인덱스를 반환"
   ]
  },
  {
   "cell_type": "code",
   "execution_count": null,
   "metadata": {},
   "outputs": [],
   "source": [
    "from bisect import bisect_left, bisect_right\n",
    "\n",
    "a = [1, 2, 4, 4, 8]\n",
    "x = 4\n",
    "\n",
    "print(bisect_left(a, x))\n",
    "print(bisect_right(a, x))\n"
   ]
  },
  {
   "cell_type": "markdown",
   "metadata": {},
   "source": [
    "값이 특정 범위에 속하는 데이터 개수 구하기\n",
    "----"
   ]
  },
  {
   "cell_type": "code",
   "execution_count": null,
   "metadata": {},
   "outputs": [],
   "source": [
    "from bisect import bisect_left, bisect_right\n",
    "\n",
    "def count_by_range(a, left_value, right_value):\n",
    "    left_index = bisect_left(a, left_value)\n",
    "    right_index = bisect_right(a, right_value)\n",
    "    return right_index - left_index\n",
    "\n",
    "a = [1, 2, 3, 3 ,3 ,3, 4, 4, 8, 9]\n",
    "\n",
    "print(count_by_range(a, -1, 4))"
   ]
  },
  {
   "cell_type": "markdown",
   "metadata": {},
   "source": [
    "Parametric Search\n",
    "---\n",
    "- 최적화 문제를 결정 문제('예' 혹은 '아니오')로 바꾸어 해결하는 기법\n",
    "    - ex) 특정한 조건을 만족하는 가장 알맞은 값을 빠르게 찾는 최적화 문제\n",
    "- 일반적으로 코딩 테스트에서 파라메트릭 서치 문제는 이진 탐색을 이용하여 해결 가능"
   ]
  },
  {
   "cell_type": "markdown",
   "metadata": {},
   "source": [
    "1. 떡볶이 떡은 떡의 길이기 일정하지 않다. 대신에 한 봉지 안에 들어가는 떡의 총 길이는 절단기로 잘라서 맞춰준다. 절단기에 높이(H)를 지정하면 줄지어진 떡을 한번에 절단한다. 높이가 H보다 긴 떡은 H 위의 부분이 잘릴 것이고, 낮은 떡은 잘리지 않는다. 손님이 요청한 총 길이가 M일 때 적어도 M만큼의 떡을 얻기 위해 절단기에 설정할 수 있는 높이의 최댓값을 구하는 프로그램을 작성\n",
    "- 예를 들어 높이가 19, 14, 10, 17cm인 떡이 나란히 있고 절단기 높이를 15로 지정하면 자른 뒤 떡의 높이는 15, 14, 10, 15cm가 됨\n",
    "- 잘린 떡의 길이는 차례대로 4, 0, 0, 2cm\n",
    "- 손님은 6cm만큼의 길이를 가져감\n",
    "----\n",
    "- 첫째 줄에 떡의 개수 N과 요청한 떡의 길이 M이 주어짐\n",
    "- 둘째 줄에 떡의 개별 높이 주어짐"
   ]
  },
  {
   "cell_type": "code",
   "execution_count": null,
   "metadata": {},
   "outputs": [],
   "source": [
    "def binary_search(array, m, start, end):\n",
    "    if start > end:\n",
    "        return None\n",
    "    \n",
    "    total = 0\n",
    "    mid = (start + end)//2\n",
    "    for x in array:\n",
    "        if x > mid:\n",
    "            total += x - mid\n",
    "    if total == m:\n",
    "        return mid\n",
    "    if total < m:\n",
    "        binary_search(array, m, start, mid - 1 )\n",
    "    else:\n",
    "        binary_search(array, m, mid + 1, end)\n",
    "    \n",
    "    \n",
    "            \n",
    "n, m = list(map(int, input().split()))\n",
    "array = list(map(int, input().split()))\n",
    "start = 0\n",
    "end = max(array)\n",
    "\n",
    "result = binary_search(array, m, 0, n -1)\n",
    "print(result)"
   ]
  },
  {
   "cell_type": "code",
   "execution_count": null,
   "metadata": {},
   "outputs": [],
   "source": [
    "n, m = list(map(int, input().split()))\n",
    "array = list(map(int, input().split()))\n",
    "\n",
    "start = 0\n",
    "end = max(array)\n",
    "\n",
    "result = 0\n",
    "while(start <= end):\n",
    "    total = 0\n",
    "    mid = (start + end) // 2\n",
    "    for x in array:\n",
    "        if x > mid:\n",
    "            total += x - mid\n",
    "            \n",
    "    if total < m:\n",
    "        end = mid -1\n",
    "    else:\n",
    "        result = mid\n",
    "        start = mid + 1\n",
    "        \n",
    "print(result)"
   ]
  },
  {
   "cell_type": "markdown",
   "metadata": {},
   "source": [
    "2. N개의 원소를 포함하고 있는 수열이 오름차순으로 정렬되어 있다. 이떄 이 수열에서 x가 등장하는 횟수를 계산하시오. 시간 복잡도 O(logN)으로 동작해야 함\n",
    "------\n",
    "- 수열 [1, 1, 2, 2, 2, 2, 3]이 있을 때 x = 2라면, 현재 수열에서 값이 2인 원소가 4개이므로 4를 출력"
   ]
  },
  {
   "cell_type": "markdown",
   "metadata": {},
   "source": [
    "- 일반적인 선형 탐색으로는 시간 초과 판정을 받음\n",
    "- 하지만 데이터가 정렬되어 있기 때문에 이진 탐색을 수행 가능"
   ]
  },
  {
   "cell_type": "code",
   "execution_count": null,
   "metadata": {},
   "outputs": [],
   "source": [
    "from bisect import bisect_left, bisect_right\n",
    "\n",
    "def count_by_range(a, left_value, right_value):\n",
    "    left_index = bisect_left(a, left_value)\n",
    "    right_index = bisect_right(a, right_value)\n",
    "    return right_index - left_index\n",
    "\n",
    "n, x = map(int, input().split())\n",
    "array =list(map(int, input().split()))\n",
    "\n",
    "count = count_by_range(array, x, x)\n",
    "\n",
    "if count == 0:\n",
    "    print(-1)\n",
    "else:\n",
    "    print(count)"
   ]
  }
 ],
 "metadata": {
  "kernelspec": {
   "display_name": "Python 3.7.0 ('offdy')",
   "language": "python",
   "name": "python3"
  },
  "language_info": {
   "codemirror_mode": {
    "name": "ipython",
    "version": 3
   },
   "file_extension": ".py",
   "mimetype": "text/x-python",
   "name": "python",
   "nbconvert_exporter": "python",
   "pygments_lexer": "ipython3",
   "version": "3.7.0"
  },
  "orig_nbformat": 4,
  "vscode": {
   "interpreter": {
    "hash": "a277bf6688bbb7da718ea1cbc2a7572591174ff83fa8173e63ab66c17f06a7d0"
   }
  }
 },
 "nbformat": 4,
 "nbformat_minor": 2
}
