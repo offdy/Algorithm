{
 "cells": [
  {
   "cell_type": "markdown",
   "metadata": {},
   "source": [
    "스택 자료구조\n",
    "------\n",
    "- 먼저 들어 온 데이터가 나중에 나가는 형식의 자료구조(선입후출)\n",
    "- 입구와 출구가 동일한 형태로 스택을 시각화할  수 있음)"
   ]
  },
  {
   "cell_type": "code",
   "execution_count": null,
   "metadata": {},
   "outputs": [],
   "source": [
    "stack = []\n",
    "stack.append(5)\n",
    "stack.append(2)\n",
    "stack.append(3)\n",
    "stack.append(7)\n",
    "stack.pop()\n",
    "stack.append(1)\n",
    "stack.append(4)\n",
    "stack.pop()\n",
    "\n",
    "print(stack[::-1]) # 최상단 원소부터 출력 -> [1, 3, 2, 5]\n",
    "print(stack) # 최하단 원소부터 출력 -> [5, 2, 3, 1]"
   ]
  }
 ],
 "metadata": {
  "kernelspec": {
   "display_name": "Python 3.7.0 ('offdy')",
   "language": "python",
   "name": "python3"
  },
  "language_info": {
   "name": "python",
   "version": "3.7.0"
  },
  "orig_nbformat": 4,
  "vscode": {
   "interpreter": {
    "hash": "a277bf6688bbb7da718ea1cbc2a7572591174ff83fa8173e63ab66c17f06a7d0"
   }
  }
 },
 "nbformat": 4,
 "nbformat_minor": 2
}
